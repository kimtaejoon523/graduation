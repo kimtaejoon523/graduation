import cv2
import mediapipe as mp
import csv
from datetime import datetime, timedelta
import math
import numpy as np

#CSV 파일에 헤더를 추가

# with open('620.csv', mode='w', newline='') as file:
#     writer = csv.writer(file)
#     writer.writerow(['R','G','B', 'Openness', 'Width', 'Label'])

with open('2.csv', mode='w', newline='') as file:
    writer = csv.writer(file)
    writer.writerow(['R','G','B', 'Openness', 'Width', 'Label'])

# Mediapipe의 Face Mesh 모델 로드
mp_face_mesh = mp.solutions.face_mesh
face_mesh = mp_face_mesh.FaceMesh()

# 웹캠에서 영상을 받아오는 VideoCapture 객체 생성
cap = cv2.VideoCapture(0)

start_time = datetime.now()
elapsed_time = timedelta(seconds=0)

while cap.isOpened():
    ret, frame = cap.read()
    if not ret:
        print("비디오 캡처 실패, 종료합니다.")
        break

    frame = cv2.flip(frame, 1)
    
    # 프레임을 BGR에서 RGB로 변환
    rgb_frame = cv2.cvtColor(frame, cv2.COLOR_BGR2RGB)
    
    # 얼굴 검출 및 랜드마크 추출
    results = face_mesh.process(rgb_frame)

    
    if results.multi_face_landmarks:
     
        for face_landmarks in results.multi_face_landmarks:

            landmark_indices =[12,14]
            # landmark_indices =[61, 146, 91, 181, 84, 17, 314, 405, 321, 375, 291]  # 입 윤곽선을 정의하는 인덱스들

            landmarks = [face_landmarks.landmark[i] for i in landmark_indices]
            
            h, w, _ = frame.shape
            x_avg = int(np.mean([landmark.x * w for landmark in landmarks]))
            y_avg = int(np.mean([landmark.y * h for landmark in landmarks]))

            # 특정 점의 RGB 값 구하기
            rgb_value = frame[y_avg, x_avg]
            b, g, r = rgb_value[0], rgb_value[1], rgb_value[2]
            
            
            # # 원본 이미지에서 해당 점 표시
            # cv2.circle(frame, (x_avg, y_avg), 2, (0, 255, 0), -1)

            # mouth_points = []
            # for idx in landmark_indices:
            #     landmark = face_landmarks.landmark[idx]
            #     x = int(landmark.x * frame.shape[1])
            #     y = int(landmark.y * frame.shape[0])
            #     mouth_points.append((x, y))
            #     # 랜드마크 위치에 작은 원 그리기
            #     cv2.circle(frame, (x, y), 2, (0, 255, 0), -1)
            #     # 랜드마크 인덱스 텍스트로 표시
            #     cv2.putText(frame, str(idx), (x, y), cv2.FONT_HERSHEY_SIMPLEX, 0.3, (0, 255, 0), 1)
            

          
            


            
            # 입 주변의 랜드마크 표시
       
           

                #웹캠과의 거리에 따라 입의 가로길이와 세로길이가 변경함에 따라 기준값으로 얼굴너비를 설정

            face_width = math.sqrt(
            (face_landmarks.landmark[288].x - face_landmarks.landmark[234].x) ** 2 +
            (face_landmarks.landmark[288].y - face_landmarks.landmark[234].y) ** 2
        )
            face_width=40*face_width
        


            #입의 세로길이=>고중저모음 판단기준

            upper_lip_bottom = (face_landmarks.landmark[13].x, face_landmarks.landmark[13].y)
            lower_lip_top = (face_landmarks.landmark[14].x, face_landmarks.landmark[14].y)
            mouth_openness = (lower_lip_top[1] - upper_lip_bottom[1])/face_width
            mouth_openness=round(mouth_openness,4)
        
            # 입의 가로길이를 계산=>원순/평순 판단기준
            
            lip_left =(face_landmarks.landmark[61].x, face_landmarks.landmark[61].y)
            lip_right=(face_landmarks.landmark[291].x, face_landmarks.landmark[291].y)
            mouth_width=(lip_right[0]-lip_left[0])/face_width
            mouth_width=round(mouth_width,4)
                
            
            # 경과 시간이 0.2초 이상일 때만 CSV 파일에 추가
            if elapsed_time.total_seconds() >= 0.2:
                # 시간 단위로 입안 명암도, 입 벌림 정도, 입의 가로길이를 CSV 파일에 추가
                with open('2.csv', mode='a', newline='') as file:
                    writer = csv.writer(file)
                    writer.writerow([r,g,b,mouth_openness,mouth_width,2]) #label변경사항
                
                # 경과 시간 초기화
                elapsed_time = timedelta(seconds=0)
            else:
                # 경과 시간 누적
                elapsed_time += datetime.now() - start_time
                start_time = datetime.now()
            
            # 입 벌림 정도, 입안 명암도, 입의 가로길이를 프레임에 표시
           
            cv2.putText(frame, f"Mouth Openness: {mouth_openness:.4f}", (10, 30), cv2.FONT_HERSHEY_SIMPLEX, 0.7, (0, 255, 255), 2)
            cv2.putText(frame, f"Mouth Width: {mouth_width:.4f}", (10, 60), cv2.FONT_HERSHEY_SIMPLEX, 0.7, (0, 255, 255), 2)
            cv2.putText(frame, f"RGB: ({r:},{g:},{b:})", (10, 90), cv2.FONT_HERSHEY_SIMPLEX, 0.7, (0, 255, 255), 2)
    
        
            
            
            
    # 영상 출력
    cv2.imshow('Face Mesh', frame)
    
    # 종료 키 (q) 입력 시 종료
    if cv2.waitKey(1) & 0xFF == ord('q'):
        break 

# 자원 해제
cap.release()
cv2.destroyAllWindows()
